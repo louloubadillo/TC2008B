{
  "cells": [
    {
      "cell_type": "markdown",
      "metadata": {
        "id": "2UecvnEFcfNu"
      },
      "source": [
        "# Introduction to MESA for multi-agents\n",
        "\n"
      ]
    },
    {
      "cell_type": "code",
      "execution_count": 1,
      "metadata": {},
      "outputs": [
        {
          "name": "stderr",
          "output_type": "stream",
          "text": [
            "\"pip\" no se reconoce como un comando interno o externo,\n",
            "programa o archivo por lotes ejecutable.\n"
          ]
        }
      ],
      "source": [
        "!pip install mesa"
      ]
    },
    {
      "cell_type": "markdown",
      "metadata": {
        "id": "vYrL8aqQctdn"
      },
      "source": [
        "## Sample model description\n",
        "The tutorial model is a very simple simulated agent-based economy, drawn from econophysics and presenting a statistical mechanics approach to wealth distribution.\n",
        "The rules of the model are:\n",
        "1. There are some number of agents.\n",
        "2. All agents begin with 1 unit of money.\n",
        "3. At every step of the model, an agent gives 1 unit of money (if they have it) to some other agent."
      ]
    },
    {
      "cell_type": "markdown",
      "metadata": {
        "id": "lcdN9MjmdNVz"
      },
      "source": [
        "## Setting up the model\n",
        "\n",
        "There are two core classes: one for the overall model, the other for the agents. \n",
        "\n",
        "Each agent has only one variable: how much wealth it currently has. \n",
        "And the model-level parameter is how many agents the model contains. \n"
      ]
    },
    {
      "cell_type": "code",
      "execution_count": 2,
      "metadata": {
        "id": "bKiDQglEgKGz"
      },
      "outputs": [
        {
          "ename": "ModuleNotFoundError",
          "evalue": "No module named 'mesa'",
          "output_type": "error",
          "traceback": [
            "\u001b[1;31m---------------------------------------------------------------------------\u001b[0m",
            "\u001b[1;31mModuleNotFoundError\u001b[0m                       Traceback (most recent call last)",
            "\u001b[1;32mC:\\Users\\LOULOU~1\\AppData\\Local\\Temp/ipykernel_3660/1874682266.py\u001b[0m in \u001b[0;36m<module>\u001b[1;34m\u001b[0m\n\u001b[1;32m----> 1\u001b[1;33m \u001b[1;32mfrom\u001b[0m \u001b[0mmesa\u001b[0m \u001b[1;32mimport\u001b[0m \u001b[0mAgent\u001b[0m\u001b[1;33m,\u001b[0m \u001b[0mModel\u001b[0m\u001b[1;33m\u001b[0m\u001b[1;33m\u001b[0m\u001b[0m\n\u001b[0m\u001b[0;32m      2\u001b[0m \u001b[1;33m\u001b[0m\u001b[0m\n\u001b[0;32m      3\u001b[0m \u001b[1;33m\u001b[0m\u001b[0m\n\u001b[0;32m      4\u001b[0m \u001b[1;32mclass\u001b[0m \u001b[0mMoneyAgent\u001b[0m\u001b[1;33m(\u001b[0m\u001b[0mAgent\u001b[0m\u001b[1;33m)\u001b[0m\u001b[1;33m:\u001b[0m\u001b[1;33m\u001b[0m\u001b[1;33m\u001b[0m\u001b[0m\n\u001b[0;32m      5\u001b[0m     \u001b[1;34m\"\"\"An agent with fixed initial wealth.\"\"\"\u001b[0m\u001b[1;33m\u001b[0m\u001b[1;33m\u001b[0m\u001b[0m\n",
            "\u001b[1;31mModuleNotFoundError\u001b[0m: No module named 'mesa'"
          ]
        }
      ],
      "source": [
        "from mesa import Agent, Model\n",
        "\n",
        "\n",
        "class MoneyAgent(Agent):\n",
        "    \"\"\"An agent with fixed initial wealth.\"\"\"\n",
        "\n",
        "    def __init__(self, unique_id, model):\n",
        "        super().__init__(unique_id, model)\n",
        "        self.wealth = 1\n",
        "\n",
        "\n",
        "class MoneyModel(Model):\n",
        "    \"\"\"A model with some number of agents.\"\"\"\n",
        "\n",
        "    def __init__(self, N):\n",
        "        self.num_agents = N\n",
        "        # Create agents\n",
        "        for i in range(self.num_agents):\n",
        "            a = MoneyAgent(i, self)"
      ]
    },
    {
      "cell_type": "markdown",
      "metadata": {
        "id": "EBnxjioogSdH"
      },
      "source": [
        "## Adding the scheduler\n",
        "The scheduler is a special model component which controls the order in which agents are activated.\n",
        "\n",
        "We are using the simplest one: `RandomActivation`, which activates all the agents once per step, in random order. \n",
        "\n",
        "Every agent is expected to have a `step`\n",
        "method. The step method is the action the agent takes when it is activated by the model schedule. "
      ]
    },
    {
      "cell_type": "code",
      "execution_count": null,
      "metadata": {
        "id": "MGdDH41ZgQQz"
      },
      "outputs": [],
      "source": [
        "from mesa import Agent, Model\n",
        "from mesa.time import RandomActivation\n",
        "\n",
        "\n",
        "class MoneyAgent(Agent):\n",
        "    \"\"\"An agent with fixed initial wealth.\"\"\"\n",
        "\n",
        "    def __init__(self, unique_id, model):\n",
        "        super().__init__(unique_id, model)\n",
        "        self.wealth = 1\n",
        "\n",
        "    def step(self):\n",
        "        # The agent's step will go here.\n",
        "        # For demonstration purposes we will print the agent's unique_id\n",
        "        print(\"Hi, I am agent \" + str(self.unique_id) + \".\")\n",
        "\n",
        "\n",
        "class MoneyModel(Model):\n",
        "    \"\"\"A model with some number of agents.\"\"\"\n",
        "\n",
        "    def __init__(self, N):\n",
        "        self.num_agents = N\n",
        "        self.schedule = RandomActivation(self)\n",
        "        # Create agents\n",
        "        for i in range(self.num_agents):\n",
        "            a = MoneyAgent(i, self)\n",
        "            self.schedule.add(a)\n",
        "\n",
        "    def step(self):\n",
        "        \"\"\"Advance the model by one step.\"\"\"\n",
        "        self.schedule.step()"
      ]
    },
    {
      "cell_type": "markdown",
      "metadata": {
        "id": "K8WJj5Fmg9Lu"
      },
      "source": [
        "## Testing"
      ]
    },
    {
      "cell_type": "code",
      "execution_count": null,
      "metadata": {
        "colab": {
          "base_uri": "https://localhost:8080/"
        },
        "id": "qs4T4W5KhIOF",
        "outputId": "6bda1930-4e44-4cd3-8f09-86f7740e2c1d"
      },
      "outputs": [
        {
          "name": "stdout",
          "output_type": "stream",
          "text": [
            "Hi, I am agent 7.\n",
            "Hi, I am agent 2.\n",
            "Hi, I am agent 5.\n",
            "Hi, I am agent 4.\n",
            "Hi, I am agent 9.\n",
            "Hi, I am agent 1.\n",
            "Hi, I am agent 3.\n",
            "Hi, I am agent 0.\n",
            "Hi, I am agent 8.\n",
            "Hi, I am agent 6.\n"
          ]
        }
      ],
      "source": [
        "test_model = MoneyModel(10)\n",
        "test_model.step()"
      ]
    },
    {
      "cell_type": "markdown",
      "metadata": {
        "id": "v_ZGaa5WhVOU"
      },
      "source": [
        "## Exercise\n",
        "\n",
        "Try modifying the code to have every agent print out its `wealth` when activated. "
      ]
    },
    {
      "cell_type": "code",
      "execution_count": null,
      "metadata": {
        "colab": {
          "base_uri": "https://localhost:8080/"
        },
        "id": "AXmDVwhYhcAP",
        "outputId": "4291ccda-a5bc-43cf-bc72-179c777d1871"
      },
      "outputs": [
        {
          "name": "stdout",
          "output_type": "stream",
          "text": [
            "Hi, I am agent 5 and my wealth is: 1\n",
            "Hi, I am agent 3 and my wealth is: 1\n",
            "Hi, I am agent 4 and my wealth is: 1\n",
            "Hi, I am agent 9 and my wealth is: 1\n",
            "Hi, I am agent 0 and my wealth is: 1\n",
            "Hi, I am agent 6 and my wealth is: 1\n",
            "Hi, I am agent 1 and my wealth is: 1\n",
            "Hi, I am agent 8 and my wealth is: 1\n",
            "Hi, I am agent 7 and my wealth is: 1\n",
            "Hi, I am agent 2 and my wealth is: 1\n"
          ]
        }
      ],
      "source": [
        "from mesa import Agent, Model\n",
        "from mesa.time import RandomActivation\n",
        "\n",
        "\n",
        "class MoneyAgent2(Agent):\n",
        "    \"\"\"An agent with fixed initial wealth.\"\"\"\n",
        "\n",
        "    def __init__(self, unique_id, model):\n",
        "        super().__init__(unique_id, model)\n",
        "        self.wealth = 1\n",
        "\n",
        "    def step(self):\n",
        "        # The agent's step will go here.\n",
        "        # For demonstration purposes we will print the agent's unique_id\n",
        "        print(\"Hi, I am agent \" + str(self.unique_id) + \" and my wealth is: \"+ str(self.wealth))\n",
        "\n",
        "\n",
        "class MoneyModel2(Model):\n",
        "    \"\"\"A model with some number of agents.\"\"\"\n",
        "\n",
        "    def __init__(self, N):\n",
        "        self.num_agents = N\n",
        "        self.schedule = RandomActivation(self)\n",
        "        # Create agents\n",
        "        for i in range(self.num_agents):\n",
        "            a = MoneyAgent2(i, self)\n",
        "            self.schedule.add(a)\n",
        "\n",
        "    def step(self):\n",
        "        \"\"\"Advance the model by one step.\"\"\"\n",
        "        self.schedule.step()\n",
        "\n",
        "test_model2 = MoneyModel2(10)\n",
        "test_model2.step()"
      ]
    },
    {
      "cell_type": "markdown",
      "metadata": {
        "id": "e7-lMYhwh76t"
      },
      "source": [
        "## Agent Step\n",
        "Now we just need to have the agents do what we intend for them to do: check their wealth, and if they have the money, give one unit of it away to another random agent.\n",
        "\n",
        "To allow the agent to choose another agent at random, we use the generator `model.random`.\n",
        "\n",
        "The scheduler has an internal list of all the agents it is scheduled to activate.\n",
        "\n",
        "With this in mind, we rewrite the `step` method."
      ]
    },
    {
      "cell_type": "code",
      "execution_count": null,
      "metadata": {
        "id": "XXL1XwdLiQbn"
      },
      "outputs": [],
      "source": [
        "from mesa import Agent, Model\n",
        "from mesa.time import RandomActivation\n",
        "import matplotlib.pyplot as plt\n",
        "\n",
        "\n",
        "class MoneyAgent3(Agent):\n",
        "    \"\"\"An agent with fixed initial wealth.\"\"\"\n",
        "\n",
        "    def __init__(self, unique_id, model):\n",
        "        super().__init__(unique_id, model)\n",
        "        self.wealth = 1\n",
        "\n",
        "    def step(self):\n",
        "        if self.wealth == 0:\n",
        "            #print(\"Hi, I am agent \" + str(self.unique_id) + \" and my wealth is: \"+ str(self.wealth))\n",
        "            return\n",
        "        other_agent = self.random.choice(self.model.schedule.agents)\n",
        "        other_agent.wealth += 1\n",
        "        self.wealth -= 1\n",
        "        #print(\"Hi, I am agent \" + str(self.unique_id) + \" and my wealth is: \"+ str(self.wealth))\n",
        "\n",
        "class MoneyModel3(Model):\n",
        "    \"\"\"A model with some number of agents.\"\"\"\n",
        "\n",
        "    def __init__(self, N):\n",
        "        self.num_agents = N\n",
        "        self.schedule = RandomActivation(self)\n",
        "        # Create agents\n",
        "        for i in range(self.num_agents):\n",
        "            a = MoneyAgent3(i, self)\n",
        "            self.schedule.add(a)\n",
        "\n",
        "    def step(self):\n",
        "        \"\"\"Advance the model by one step.\"\"\"\n",
        "        self.schedule.step()"
      ]
    },
    {
      "cell_type": "markdown",
      "metadata": {
        "id": "k8r0071fiwBL"
      },
      "source": [
        "## Running your first model"
      ]
    },
    {
      "cell_type": "code",
      "execution_count": null,
      "metadata": {
        "colab": {
          "base_uri": "https://localhost:8080/",
          "height": 317
        },
        "id": "N0PW8_GVi0mY",
        "outputId": "b01175af-29a6-4b34-c966-6dbde81642c6"
      },
      "outputs": [
        {
          "data": {
            "text/plain": [
              "(array([5., 0., 0., 1., 0., 0., 3., 0., 0., 1.]),\n",
              " array([0. , 0.3, 0.6, 0.9, 1.2, 1.5, 1.8, 2.1, 2.4, 2.7, 3. ]),\n",
              " <a list of 10 Patch objects>)"
            ]
          },
          "execution_count": 16,
          "metadata": {},
          "output_type": "execute_result"
        },
        {
          "data": {
            "image/png": "[encoded data removed]",
            "text/plain": [
              "<Figure size 432x288 with 1 Axes>"
            ]
          },
          "metadata": {
            "needs_background": "light"
          },
          "output_type": "display_data"
        }
      ],
      "source": [
        "model = MoneyModel3(10)\n",
        "for i in range(10):\n",
        "    model.step()\n",
        "\n",
        "agent_wealth = [a.wealth for a in model.schedule.agents]\n",
        "plt.hist(agent_wealth)"
      ]
    },
    {
      "cell_type": "code",
      "execution_count": null,
      "metadata": {
        "colab": {
          "base_uri": "https://localhost:8080/",
          "height": 317
        },
        "id": "wBcEnxBAjPsA",
        "outputId": "e2db1d51-e6e7-41d7-8b44-fe3de637c8fe"
      },
      "outputs": [
        {
          "data": {
            "text/plain": [
              "(array([434., 287., 173.,  72.,  24.,   7.,   3.]),\n",
              " array([0, 1, 2, 3, 4, 5, 6, 7]),\n",
              " <a list of 7 Patch objects>)"
            ]
          },
          "execution_count": 17,
          "metadata": {},
          "output_type": "execute_result"
        },
        {
          "data": {
            "image/png": "[encoded data removed]",
            "text/plain": [
              "<Figure size 432x288 with 1 Axes>"
            ]
          },
          "metadata": {
            "needs_background": "light"
          },
          "output_type": "display_data"
        }
      ],
      "source": [
        "all_wealth = []\n",
        "# This runs the model 100 times, each model executing 10 steps.\n",
        "for j in range(100):\n",
        "    # Run the model\n",
        "    model = MoneyModel3(10)\n",
        "    for i in range(10):\n",
        "        model.step()\n",
        "\n",
        "    # Store the results\n",
        "    for agent in model.schedule.agents:\n",
        "        all_wealth.append(agent.wealth)\n",
        "\n",
        "plt.hist(all_wealth, bins=range(max(all_wealth) + 1))"
      ]
    }
  ],
  "metadata": {
    "colab": {
      "name": "IntroMultiAgents.ipynb",
      "provenance": []
    },
    "kernelspec": {
      "display_name": "Python 3",
      "name": "python3"
    },
    "language_info": {
      "codemirror_mode": {
        "name": "ipython",
        "version": 3
      },
      "file_extension": ".py",
      "mimetype": "text/x-python",
      "name": "python",
      "nbconvert_exporter": "python",
      "pygments_lexer": "ipython3",
      "version": "3.9.1"
    }
  },
  "nbformat": 4,
  "nbformat_minor": 0
}
